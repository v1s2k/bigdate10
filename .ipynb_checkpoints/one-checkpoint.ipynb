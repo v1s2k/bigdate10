{
 "cells": [
  {
   "cell_type": "code",
   "execution_count": 2,
   "metadata": {
    "scrolled": false
   },
   "outputs": [
    {
     "ename": "AttributeError",
     "evalue": "'DataFrame' object has no attribute 'data'",
     "output_type": "error",
     "traceback": [
      "\u001b[1;31m---------------------------------------------------------------------------\u001b[0m",
      "\u001b[1;31mAttributeError\u001b[0m                            Traceback (most recent call last)",
      "Cell \u001b[1;32mIn [2], line 73\u001b[0m\n\u001b[0;32m     71\u001b[0m data \u001b[38;5;241m=\u001b[39m pd\u001b[38;5;241m.\u001b[39mread_csv(\u001b[38;5;124m\"\u001b[39m\u001b[38;5;124mavocado.csv\u001b[39m\u001b[38;5;124m\"\u001b[39m)\n\u001b[0;32m     72\u001b[0m scaler \u001b[38;5;241m=\u001b[39m preprocessing\u001b[38;5;241m.\u001b[39mMinMaxScaler()\n\u001b[1;32m---> 73\u001b[0m two(\u001b[43mdata\u001b[49m\u001b[38;5;241;43m.\u001b[39;49m\u001b[43mdata\u001b[49m, scaler)\n\u001b[0;32m     74\u001b[0m three(data\u001b[38;5;241m.\u001b[39mdata, scaler)\n\u001b[0;32m     75\u001b[0m four(data\u001b[38;5;241m.\u001b[39mdata, scaler)\n",
      "File \u001b[1;32m~\\Downloads\\tenth\\venv\\lib\\site-packages\\pandas\\core\\generic.py:5902\u001b[0m, in \u001b[0;36mNDFrame.__getattr__\u001b[1;34m(self, name)\u001b[0m\n\u001b[0;32m   5895\u001b[0m \u001b[38;5;28;01mif\u001b[39;00m (\n\u001b[0;32m   5896\u001b[0m     name \u001b[38;5;129;01mnot\u001b[39;00m \u001b[38;5;129;01min\u001b[39;00m \u001b[38;5;28mself\u001b[39m\u001b[38;5;241m.\u001b[39m_internal_names_set\n\u001b[0;32m   5897\u001b[0m     \u001b[38;5;129;01mand\u001b[39;00m name \u001b[38;5;129;01mnot\u001b[39;00m \u001b[38;5;129;01min\u001b[39;00m \u001b[38;5;28mself\u001b[39m\u001b[38;5;241m.\u001b[39m_metadata\n\u001b[0;32m   5898\u001b[0m     \u001b[38;5;129;01mand\u001b[39;00m name \u001b[38;5;129;01mnot\u001b[39;00m \u001b[38;5;129;01min\u001b[39;00m \u001b[38;5;28mself\u001b[39m\u001b[38;5;241m.\u001b[39m_accessors\n\u001b[0;32m   5899\u001b[0m     \u001b[38;5;129;01mand\u001b[39;00m \u001b[38;5;28mself\u001b[39m\u001b[38;5;241m.\u001b[39m_info_axis\u001b[38;5;241m.\u001b[39m_can_hold_identifiers_and_holds_name(name)\n\u001b[0;32m   5900\u001b[0m ):\n\u001b[0;32m   5901\u001b[0m     \u001b[38;5;28;01mreturn\u001b[39;00m \u001b[38;5;28mself\u001b[39m[name]\n\u001b[1;32m-> 5902\u001b[0m \u001b[38;5;28;01mreturn\u001b[39;00m \u001b[38;5;28;43mobject\u001b[39;49m\u001b[38;5;241;43m.\u001b[39;49m\u001b[38;5;21;43m__getattribute__\u001b[39;49m\u001b[43m(\u001b[49m\u001b[38;5;28;43mself\u001b[39;49m\u001b[43m,\u001b[49m\u001b[43m \u001b[49m\u001b[43mname\u001b[49m\u001b[43m)\u001b[49m\n",
      "\u001b[1;31mAttributeError\u001b[0m: 'DataFrame' object has no attribute 'data'"
     ]
    }
   ],
   "source": [
    "import time\n",
    "import numpy as np\n",
    "import pandas as pd\n",
    "from sklearn import preprocessing\n",
    "import seaborn as sns\n",
    "from sklearn.datasets import load_digits\n",
    "from sklearn.metrics import silhouette_score\n",
    "from sklearn.cluster import KMeans\n",
    "import matplotlib.pyplot as plt\n",
    "import umap\n",
    "from sklearn.cluster import AgglomerativeClustering\n",
    "from sklearn.cluster import DBSCAN\n",
    "\n",
    "def two(df, scale):\n",
    "    models = []\n",
    "    score1 = []\n",
    "    score2 = []\n",
    "    for i in range(2,11):\n",
    "        model = KMeans(n_clusters=i, random_state=123, init='k-means++').fit(df)\n",
    "        models.append(model)\n",
    "        score1.append(model.inertia_)\n",
    "        score2.append(silhouette_score(df,model.labels_))\n",
    "    plt.grid()\n",
    "    plt.plot(np.arange(2,11), score1, marker='o')\n",
    "    plt.show()\n",
    "    plt.grid()\n",
    "    plt.plot(np.arange(2,11), score2, marker='o')\n",
    "    plt.show()\n",
    "    time_start = time.time()\n",
    "    model1 = KMeans(n_clusters=9, random_state=123, init='k-means++').fit(df)\n",
    "    print(\"KMeans\\nTime used: \", time.time() - time_start)\n",
    "    df['Cluster'] = model1.labels_\n",
    "    print(df['Cluster'].value_counts(sort=False))\n",
    "    scaled = pd.DataFrame(scale.fit_transform(df), columns=df.columns)\n",
    "    um = umap.UMAP(n_neighbors=50, min_dist=0.1, random_state=123).fit_transform(scaled)\n",
    "    DATA = scaled.copy()\n",
    "    DATA['x']=um[:,0]\n",
    "    DATA['y']=um[:,1]\n",
    "    sns.scatterplot(x='x',y='y',hue=df['Cluster'],data=DATA,palette='pastel')\n",
    "    plt.show()\n",
    "\n",
    "def three(df, scale):\n",
    "    time_start = time.time()\n",
    "    model2 = AgglomerativeClustering(9, compute_distances=True).fit(df)\n",
    "    print(\"Agglomerative Clustering\\nTime used: \", time.time() - time_start)\n",
    "    df['Cluster'] = model2.labels_\n",
    "    print(df['Cluster'].value_counts(sort=False))\n",
    "    scaled = pd.DataFrame(scale.fit_transform(df), columns=df.columns)\n",
    "    um = umap.UMAP(n_neighbors=50, min_dist=0.1, random_state=123).fit_transform(scaled)\n",
    "    DATA = scaled.copy()\n",
    "    DATA['x']=um[:,0]\n",
    "    DATA['y']=um[:,1]\n",
    "    sns.scatterplot(x='x',y='y',hue=df['Cluster'],data=DATA,palette='pastel')\n",
    "    plt.show()\n",
    "\n",
    "def four(df, scale):\n",
    "    time_start = time.time()\n",
    "    model3 = DBSCAN(eps=14, min_samples=5).fit(df)\n",
    "    print(\"DBSCAN\\nTime used: \", time.time() - time_start)\n",
    "    df['Cluster'] = model3.labels_\n",
    "    print(df['Cluster'].value_counts(sort=False))\n",
    "    scaled = pd.DataFrame(scale.fit_transform(df), columns=df.columns)\n",
    "    um = umap.UMAP(n_neighbors=50, min_dist=0.1, random_state=123).fit_transform(scaled)\n",
    "    DATA = scaled.copy()\n",
    "    DATA['x']=um[:,0]\n",
    "    DATA['y']=um[:,1]\n",
    "    sns.scatterplot(x='x',y='y',hue=df['Cluster'],data=DATA,palette='pastel')\n",
    "    plt.show()\n",
    "\n",
    "if __name__ == '__main__':\n",
    "    data = pd.read_csv(\"avocado.csv\")\n",
    "    scaler = preprocessing.MinMaxScaler()\n",
    "    two(data.data, scaler)\n",
    "    three(data.data, scaler)\n",
    "    four(data.data, scaler)"
   ]
  },
  {
   "cell_type": "code",
   "execution_count": null,
   "metadata": {},
   "outputs": [],
   "source": []
  }
 ],
 "metadata": {
  "kernelspec": {
   "display_name": "Python 3 (ipykernel)",
   "language": "python",
   "name": "python3"
  },
  "language_info": {
   "codemirror_mode": {
    "name": "ipython",
    "version": 3
   },
   "file_extension": ".py",
   "mimetype": "text/x-python",
   "name": "python",
   "nbconvert_exporter": "python",
   "pygments_lexer": "ipython3",
   "version": "3.9.13"
  }
 },
 "nbformat": 4,
 "nbformat_minor": 1
}
